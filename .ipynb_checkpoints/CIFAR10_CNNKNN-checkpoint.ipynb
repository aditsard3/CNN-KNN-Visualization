{
 "cells": [
  {
   "cell_type": "markdown",
   "metadata": {
    "id": "Q0BbHhTgBsAA"
   },
   "source": [
    "### Load Packages"
   ]
  },
  {
   "cell_type": "code",
   "execution_count": 1,
   "metadata": {
    "id": "w3T0LM52SRTU"
   },
   "outputs": [],
   "source": [
    "import torch\n",
    "import torchvision\n",
    "import torchvision.transforms as transforms\n",
    "import torch.nn as nn\n",
    "import torch.nn.functional as F\n",
    "import torch.optim as optim\n",
    "\n",
    "from sklearn.neighbors import KNeighborsClassifier\n",
    "from sklearn.metrics import accuracy_score\n",
    "from sklearn.decomposition import PCA\n",
    "\n",
    "import matplotlib.pyplot as plt\n",
    "import numpy as np\n",
    "import pandas as pd"
   ]
  },
  {
   "cell_type": "markdown",
   "metadata": {
    "id": "yTZmd1OCBz6P"
   },
   "source": [
    "### Load Data"
   ]
  },
  {
   "cell_type": "code",
   "execution_count": 2,
   "metadata": {
    "id": "3QujpMUgSaMq"
   },
   "outputs": [],
   "source": [
    "transform = transforms.Compose(\n",
    "    [transforms.ToTensor(),\n",
    "     transforms.Normalize((0.5, 0.5, 0.5), (0.5, 0.5, 0.5))]\n",
    ")\n",
    "\n",
    "batch_size = 4"
   ]
  },
  {
   "cell_type": "code",
   "execution_count": 3,
   "metadata": {
    "colab": {
     "base_uri": "https://localhost:8080/"
    },
    "id": "Nj-r2u47S1_K",
    "outputId": "08251e00-95b1-489e-9f69-4eae567a5a81"
   },
   "outputs": [
    {
     "name": "stderr",
     "output_type": "stream",
     "text": [
      "\r",
      "0.0%"
     ]
    },
    {
     "name": "stdout",
     "output_type": "stream",
     "text": [
      "Downloading https://www.cs.toronto.edu/~kriz/cifar-10-python.tar.gz to ./data/cifar-10-python.tar.gz\n"
     ]
    },
    {
     "name": "stderr",
     "output_type": "stream",
     "text": [
      "100.0%\n"
     ]
    },
    {
     "name": "stdout",
     "output_type": "stream",
     "text": [
      "Extracting ./data/cifar-10-python.tar.gz to ./data\n",
      "Files already downloaded and verified\n"
     ]
    }
   ],
   "source": [
    "trainset = torchvision.datasets.CIFAR10(root='./data', train=True, download=True, transform=transform)\n",
    "testset = torchvision.datasets.CIFAR10(root='./data', train=False, download=True, transform=transform)"
   ]
  },
  {
   "cell_type": "code",
   "execution_count": 4,
   "metadata": {
    "colab": {
     "base_uri": "https://localhost:8080/"
    },
    "id": "1IFiKw_JakcT",
    "outputId": "1fd316cf-1ab1-43d2-de4b-fd3d50c0492a"
   },
   "outputs": [
    {
     "data": {
      "text/plain": [
       "Dataset CIFAR10\n",
       "    Number of datapoints: 50000\n",
       "    Root location: ./data\n",
       "    Split: Train\n",
       "    StandardTransform\n",
       "Transform: Compose(\n",
       "               ToTensor()\n",
       "               Normalize(mean=(0.5, 0.5, 0.5), std=(0.5, 0.5, 0.5))\n",
       "           )"
      ]
     },
     "execution_count": 4,
     "metadata": {},
     "output_type": "execute_result"
    }
   ],
   "source": [
    "trainset"
   ]
  },
  {
   "cell_type": "code",
   "execution_count": 5,
   "metadata": {
    "colab": {
     "base_uri": "https://localhost:8080/"
    },
    "id": "itYAg0c3Tdgn",
    "outputId": "b8327451-5341-4fd6-b86e-80c928eea08b"
   },
   "outputs": [
    {
     "data": {
      "text/plain": [
       "(50000, 32, 32, 3)"
      ]
     },
     "execution_count": 5,
     "metadata": {},
     "output_type": "execute_result"
    }
   ],
   "source": [
    "trainset.data.shape"
   ]
  },
  {
   "cell_type": "code",
   "execution_count": 6,
   "metadata": {
    "colab": {
     "base_uri": "https://localhost:8080/"
    },
    "id": "McJVDrGrav9R",
    "outputId": "bc472e86-fefa-4c4c-c6bc-68f2ff27b066"
   },
   "outputs": [
    {
     "data": {
      "text/plain": [
       "Dataset CIFAR10\n",
       "    Number of datapoints: 10000\n",
       "    Root location: ./data\n",
       "    Split: Test\n",
       "    StandardTransform\n",
       "Transform: Compose(\n",
       "               ToTensor()\n",
       "               Normalize(mean=(0.5, 0.5, 0.5), std=(0.5, 0.5, 0.5))\n",
       "           )"
      ]
     },
     "execution_count": 6,
     "metadata": {},
     "output_type": "execute_result"
    }
   ],
   "source": [
    "testset"
   ]
  },
  {
   "cell_type": "code",
   "execution_count": 7,
   "metadata": {
    "id": "b1xhYXxaTEDm"
   },
   "outputs": [],
   "source": [
    "trainloader = torch.utils.data.DataLoader(trainset, batch_size=batch_size, shuffle=True, num_workers=2)\n",
    "testloader = torch.utils.data.DataLoader(testset, batch_size=batch_size, shuffle=False, num_workers=2)"
   ]
  },
  {
   "cell_type": "code",
   "execution_count": 8,
   "metadata": {
    "id": "SxFW-L7iThMc"
   },
   "outputs": [],
   "source": [
    "classes = ('plane', 'car', 'bird', 'cat', 'deer', 'dog', 'frog', 'horse', 'ship', 'truck')"
   ]
  },
  {
   "cell_type": "code",
   "execution_count": 9,
   "metadata": {
    "id": "2l4f-HZRT9X0"
   },
   "outputs": [],
   "source": [
    "def imshow(img):\n",
    "  img = img / 2 + 0.5 # Unnormalize the data\n",
    "  npimg = img.numpy()\n",
    "  plt.imshow(np.transpose(npimg, (1, 2, 0)))\n",
    "  plt.show()"
   ]
  },
  {
   "cell_type": "code",
   "execution_count": 10,
   "metadata": {
    "colab": {
     "base_uri": "https://localhost:8080/",
     "height": 210
    },
    "id": "sjgeVw-mUR4L",
    "outputId": "29f3f72d-29b9-45a2-92ae-3d7a95eadd0a"
   },
   "outputs": [
    {
     "data": {
      "image/png": "[encoded data removed]",
      "text/plain": [
       "<Figure size 640x480 with 1 Axes>"
      ]
     },
     "metadata": {},
     "output_type": "display_data"
    },
    {
     "name": "stdout",
     "output_type": "stream",
     "text": [
      "dog   deer  bird  bird \n"
     ]
    }
   ],
   "source": [
    "dataiter = iter(trainloader)\n",
    "images, labels = next(dataiter)\n",
    "\n",
    "imshow(torchvision.utils.make_grid(images))\n",
    "print(' '.join(f'{classes[labels[j]]:5s}' for j in range(batch_size)))"
   ]
  },
  {
   "cell_type": "markdown",
   "metadata": {
    "id": "Np-ctOcUB3PP"
   },
   "source": [
    "### Train Model\n",
    "\n",
    "The forward pass returns both the prediction and the embeddings (120 long vector) from after the first fcl. These embeddings are used to train a KNN model."
   ]
  },
  {
   "cell_type": "code",
   "execution_count": 11,
   "metadata": {
    "id": "-lNrSsJnUa9O"
   },
   "outputs": [],
   "source": [
    "class Net(nn.Module):\n",
    "  def __init__(self):\n",
    "    super().__init__()\n",
    "    self.conv1 = nn.Conv2d(3, 6, 5)\n",
    "    self.pool = nn.MaxPool2d(2, 2)\n",
    "    self.conv2 = nn.Conv2d(6, 16, 5)\n",
    "    self.fc1 = nn.Linear(16 * 5 * 5, 120)\n",
    "    self.fc2 = nn.Linear(120, 84)\n",
    "    self.fc3 = nn.Linear(84, 10)\n",
    "\n",
    "  def forward(self, x):\n",
    "    x = self.pool(F.relu(self.conv1(x)))\n",
    "    x = self.pool(F.relu(self.conv2(x)))\n",
    "    x = torch.flatten(x, 1)\n",
    "    x = F.relu(self.fc1(x))\n",
    "    embedding = x.clone()\n",
    "    x = F.relu(self.fc2(x))\n",
    "    x = self.fc3(x)\n",
    "    return x, embedding\n",
    "\n",
    "net = Net()"
   ]
  },
  {
   "cell_type": "code",
   "execution_count": 12,
   "metadata": {
    "id": "9waf_DaeYQ7V"
   },
   "outputs": [],
   "source": [
    "criterion = nn.CrossEntropyLoss()\n",
    "optimizer = optim.SGD(net.parameters(), lr=0.001, momentum=0.9)"
   ]
  },
  {
   "cell_type": "code",
   "execution_count": null,
   "metadata": {
    "colab": {
     "base_uri": "https://localhost:8080/"
    },
    "id": "rVnhRVlTYlMw",
    "outputId": "70843992-bc4d-4721-8192-43df97d05221"
   },
   "outputs": [
    {
     "name": "stdout",
     "output_type": "stream",
     "text": [
      "[1,  2000] loss: 2.225\n",
      "[1,  4000] loss: 1.881\n",
      "[1,  6000] loss: 1.692\n",
      "[1,  8000] loss: 1.584\n",
      "[1, 10000] loss: 1.512\n",
      "[1, 12000] loss: 1.457\n",
      "[2,  2000] loss: 1.390\n"
     ]
    }
   ],
   "source": [
    "for epoch in range(50):\n",
    "  running_loss = 0.0\n",
    "  for i, data in enumerate(trainloader, 0):\n",
    "    inputs, labels = data\n",
    "    optimizer.zero_grad()\n",
    "\n",
    "    outputs, embeddings = net(inputs)\n",
    "    loss = criterion(outputs, labels)\n",
    "    loss.backward()\n",
    "    optimizer.step()\n",
    "\n",
    "    running_loss += loss.item()\n",
    "    if i % 2000 == 1999:\n",
    "      print(f'[{epoch + 1}, {i + 1:5d}] loss: {running_loss / 2000:.3f}')\n",
    "      running_loss = 0.0\n",
    "\n",
    "print('Finished Training')"
   ]
  },
  {
   "cell_type": "markdown",
   "metadata": {
    "id": "x3NZvGFyCPT1"
   },
   "source": [
    "### Save Model and Train Embeddings"
   ]
  },
  {
   "cell_type": "code",
   "execution_count": null,
   "metadata": {
    "id": "b39FIvoHZFUT"
   },
   "outputs": [],
   "source": [
    "PATH = './cifar_net.pth'\n",
    "torch.save(net.state_dict(), PATH)"
   ]
  },
  {
   "cell_type": "code",
   "execution_count": null,
   "metadata": {
    "id": "E1OTNU8l6I0O"
   },
   "outputs": [],
   "source": [
    "net = Net()\n",
    "net.load_state_dict(torch.load(PATH))\n",
    "\n",
    "all_embeddings = []\n",
    "all_labels = []\n",
    "\n",
    "with torch.no_grad():\n",
    "  for images, labels in trainloader:\n",
    "    pred, embeddings = net(images)\n",
    "    all_embeddings.append(embeddings.numpy())\n",
    "    all_labels.append(labels.numpy())"
   ]
  },
  {
   "cell_type": "code",
   "execution_count": null,
   "metadata": {
    "colab": {
     "base_uri": "https://localhost:8080/",
     "height": 424
    },
    "id": "puM8nbgZ-hBJ",
    "outputId": "8c025cc0-2365-4322-e36c-54dae531285a"
   },
   "outputs": [],
   "source": [
    "all_embeddings = np.concatenate(all_embeddings, axis=0)\n",
    "embeddings = pd.DataFrame(data=all_embeddings)\n",
    "embeddings"
   ]
  },
  {
   "cell_type": "code",
   "execution_count": null,
   "metadata": {
    "colab": {
     "base_uri": "https://localhost:8080/",
     "height": 424
    },
    "id": "7gsaSSrjAGcy",
    "outputId": "d63af550-4f2e-4af1-e2f7-ac9cadf64dab"
   },
   "outputs": [],
   "source": [
    "all_labels = np.concatenate(all_labels, axis=0)\n",
    "embeddings['label'] = all_labels\n",
    "embeddings\n",
    "\n",
    "train_embeddings = embeddings\n",
    "train_embeddings"
   ]
  },
  {
   "cell_type": "markdown",
   "metadata": {
    "id": "GlzcS73fCTBX"
   },
   "source": [
    "### Test Model\n",
    "\n",
    "This is testing the model purely using the CNN."
   ]
  },
  {
   "cell_type": "code",
   "execution_count": null,
   "metadata": {
    "colab": {
     "base_uri": "https://localhost:8080/",
     "height": 210
    },
    "id": "yii4Z0OCa29v",
    "outputId": "c02f4a74-90fa-419e-b23f-9a98c756af48"
   },
   "outputs": [],
   "source": [
    "dataiter = iter(testloader)\n",
    "images, labels = next(dataiter)\n",
    "\n",
    "imshow(torchvision.utils.make_grid(images))\n",
    "print('GroundTruth:', ' '.join(f'{classes[labels[j]]:5s}' for j in range(4)))"
   ]
  },
  {
   "cell_type": "code",
   "execution_count": null,
   "metadata": {
    "colab": {
     "base_uri": "https://localhost:8080/"
    },
    "id": "UHotIGCStZ9j",
    "outputId": "6513ea55-3347-492a-e00a-baeeab9599b2"
   },
   "outputs": [],
   "source": [
    "net = Net()\n",
    "net.load_state_dict(torch.load(PATH))"
   ]
  },
  {
   "cell_type": "code",
   "execution_count": null,
   "metadata": {
    "id": "yFAJ3RaS5Dni"
   },
   "outputs": [],
   "source": [
    "outputs, embeddings = net(images)"
   ]
  },
  {
   "cell_type": "code",
   "execution_count": null,
   "metadata": {
    "colab": {
     "base_uri": "https://localhost:8080/"
    },
    "id": "QvQxxbgAupA6",
    "outputId": "52838071-26a6-43d5-cce6-7fa11a6dab2b"
   },
   "outputs": [],
   "source": [
    "_, predicted = torch.max(outputs, 1)\n",
    "print('Predicted:', ' '.join(f'{classes[predicted[j]]:5s}' for j in range(4)))"
   ]
  },
  {
   "cell_type": "code",
   "execution_count": null,
   "metadata": {
    "colab": {
     "base_uri": "https://localhost:8080/"
    },
    "id": "gKa2fL19uxRM",
    "outputId": "9163d385-1e26-4716-9a44-6d2000c7ec84"
   },
   "outputs": [],
   "source": [
    "correct = 0\n",
    "total = 0\n",
    "\n",
    "all_embeddings = []\n",
    "all_labels = []\n",
    "\n",
    "with torch.no_grad():\n",
    "  for data in testloader:\n",
    "    images, labels = data\n",
    "    outputs, embeddings = net(images)\n",
    "\n",
    "    all_embeddings.append(embeddings.numpy())\n",
    "    all_labels.append(labels.numpy())\n",
    "\n",
    "    _, predicted = torch.max(outputs.data, 1)\n",
    "    total += labels.size(0)\n",
    "    correct += (predicted == labels).sum().item()\n",
    "\n",
    "print(f'Accuracy of the network on 10000 test images: {100 * correct // total} %')"
   ]
  },
  {
   "cell_type": "code",
   "execution_count": null,
   "metadata": {
    "colab": {
     "base_uri": "https://localhost:8080/"
    },
    "id": "zraz93mUveVr",
    "outputId": "c02b5a52-cb7d-4b48-e320-5b6249a35023"
   },
   "outputs": [],
   "source": [
    "correct_pred = {classname: 0 for classname in classes}\n",
    "total_pred = {classname: 0 for classname in classes}\n",
    "\n",
    "with torch.no_grad():\n",
    "  for data in testloader:\n",
    "    images, labels = data\n",
    "    outputs, embeddings = net(images)\n",
    "    _, predictions = torch.max(outputs, 1)\n",
    "\n",
    "    for label, prediction in zip(labels, predictions):\n",
    "      if label == prediction:\n",
    "        correct_pred[classes[label]] += 1\n",
    "      total_pred[classes[label]] += 1\n",
    "\n",
    "for classname, correct_count in correct_pred.items():\n",
    "  accuracy = 100 * float(correct_count) / total_pred[classname]\n",
    "  print(f'Accuracy for class: {classname:5s} is {accuracy:.1f} %')"
   ]
  },
  {
   "cell_type": "markdown",
   "metadata": {
    "id": "xOdNTRYGFGFM"
   },
   "source": [
    "Getting Test Embeddings"
   ]
  },
  {
   "cell_type": "code",
   "execution_count": null,
   "metadata": {
    "colab": {
     "base_uri": "https://localhost:8080/",
     "height": 424
    },
    "id": "5rl6Noq1wafP",
    "outputId": "fcf5a221-ca79-4406-db53-116dac11d3ab"
   },
   "outputs": [],
   "source": [
    "all_embeddings = np.concatenate(all_embeddings, axis=0)\n",
    "all_labels = np.concatenate(all_labels, axis=0)\n",
    "test_embeddings = pd.DataFrame(data=all_embeddings)\n",
    "test_embeddings['label'] = all_labels\n",
    "test_embeddings"
   ]
  },
  {
   "cell_type": "markdown",
   "metadata": {
    "id": "YsegHouNGW6k"
   },
   "source": [
    "# CNN-KNN"
   ]
  },
  {
   "cell_type": "code",
   "execution_count": null,
   "metadata": {
    "colab": {
     "base_uri": "https://localhost:8080/",
     "height": 424
    },
    "id": "jnl2SKpeFZ6f",
    "outputId": "461f1449-fc63-43fe-ea60-3285649a6e28"
   },
   "outputs": [],
   "source": [
    "train_embeddings"
   ]
  },
  {
   "cell_type": "code",
   "execution_count": null,
   "metadata": {
    "colab": {
     "base_uri": "https://localhost:8080/",
     "height": 424
    },
    "id": "ur4qzHc7GZaM",
    "outputId": "06d60573-5ea5-4af5-af24-a549c82c3a4c"
   },
   "outputs": [],
   "source": [
    "test_embeddings"
   ]
  },
  {
   "cell_type": "code",
   "execution_count": null,
   "metadata": {
    "id": "yfuZcC_bGaeL"
   },
   "outputs": [],
   "source": [
    "X_train = train_embeddings.iloc[:, :-1].values\n",
    "y_train = train_embeddings.iloc[:, -1].values\n",
    "\n",
    "X_test = test_embeddings.iloc[:, :-1].values\n",
    "y_test = test_embeddings.iloc[:, -1].values"
   ]
  },
  {
   "cell_type": "code",
   "execution_count": null,
   "metadata": {
    "colab": {
     "base_uri": "https://localhost:8080/",
     "height": 75
    },
    "id": "mm-AyURNJs4R",
    "outputId": "54d1005e-9da4-462a-9992-5b2eca276c3e"
   },
   "outputs": [],
   "source": [
    "knn = KNeighborsClassifier(n_neighbors=7)\n",
    "knn.fit(X_train, y_train)"
   ]
  },
  {
   "cell_type": "code",
   "execution_count": null,
   "metadata": {
    "colab": {
     "base_uri": "https://localhost:8080/"
    },
    "id": "jHBShApmLLhU",
    "outputId": "793806ab-3b43-4f30-a98f-a9997b454225"
   },
   "outputs": [],
   "source": [
    "preds = knn.predict(X_test)\n",
    "accuracy = accuracy_score(y_test, preds)\n",
    "print(f'Accuracy of the network on 10000 test images: {accuracy} %')"
   ]
  },
  {
   "cell_type": "code",
   "execution_count": null,
   "metadata": {
    "colab": {
     "base_uri": "https://localhost:8080/",
     "height": 75
    },
    "id": "6WqE6oR2Kv0H",
    "outputId": "1de6bc34-17a3-49d7-a666-7a919ea43a65"
   },
   "outputs": [],
   "source": [
    "knn_55 = KNeighborsClassifier(n_neighbors=55)\n",
    "knn_55.fit(X_train, y_train)"
   ]
  },
  {
   "cell_type": "code",
   "execution_count": null,
   "metadata": {
    "colab": {
     "base_uri": "https://localhost:8080/"
    },
    "id": "8xXsqEDLLf-X",
    "outputId": "a8f1bd84-6f32-41f6-85dc-49feafdb947e"
   },
   "outputs": [],
   "source": [
    "preds = knn_55.predict(X_test)\n",
    "accuracy = accuracy_score(y_test, preds)\n",
    "print(f'Accuracy of the network on 10000 test images: {accuracy} %')"
   ]
  },
  {
   "cell_type": "markdown",
   "metadata": {
    "id": "XgleOClgMV8j"
   },
   "source": [
    "### PCA"
   ]
  },
  {
   "cell_type": "code",
   "execution_count": null,
   "metadata": {
    "id": "QCK40yiAOsWY"
   },
   "outputs": [],
   "source": [
    "def plot_PCA(X, classes, title):\n",
    "  labels = np.unique(X['label'])\n",
    "  for label in labels:\n",
    "    plt.scatter(X[X['label'] == label]['x'],\n",
    "                X[X['label'] == label]['y'],\n",
    "                label=classes[label], alpha=0.7, s=10)\n",
    "  plt.xlabel('Dimension 1')\n",
    "  plt.ylabel('Dimension 2')\n",
    "  plt.title(title)\n",
    "  plt.legend()"
   ]
  },
  {
   "cell_type": "code",
   "execution_count": null,
   "metadata": {
    "colab": {
     "base_uri": "https://localhost:8080/"
    },
    "id": "fDU1E1BzLukA",
    "outputId": "9bd3bb5f-3b02-4475-82e5-3a269b4044a7"
   },
   "outputs": [],
   "source": [
    "pca = PCA(n_components=2)\n",
    "pca.fit(X_train)\n",
    "X_train_reduced = pca.transform(X_train)\n",
    "X_test_reduced = pca.transform(X_test)\n",
    "\n",
    "X_train_reduced = pd.DataFrame(data=X_train_reduced, columns=['x', 'y'])\n",
    "X_train_reduced['label'] = y_train\n",
    "\n",
    "X_test_reduced = pd.DataFrame(data=X_test_reduced, columns=['x', 'y'])\n",
    "X_test_reduced['label'] = y_test\n",
    "X_test_reduced['pred'] = preds\n",
    "\n",
    "pca.explained_variance_"
   ]
  },
  {
   "cell_type": "code",
   "execution_count": null,
   "metadata": {
    "colab": {
     "base_uri": "https://localhost:8080/",
     "height": 607
    },
    "id": "wOLoHsopPrAB",
    "outputId": "b0626726-ba72-4d7f-c5a7-36a28080eaba"
   },
   "outputs": [],
   "source": [
    "plt.figure(figsize=(15, 6))\n",
    "\n",
    "plt.subplot(1, 2, 1)\n",
    "plot_PCA(X_train_reduced, classes, 'Train Data with PCA reduction')\n",
    "\n",
    "plt.subplot(1, 2, 2)\n",
    "plot_PCA(X_test_reduced, classes, 'Test Predictions with PCA reduction')\n",
    "\n",
    "plt.tight_layout()\n",
    "plt.show()"
   ]
  },
  {
   "cell_type": "code",
   "execution_count": null,
   "metadata": {
    "id": "4nnTOpzwbmNI"
   },
   "outputs": [],
   "source": [
    "train_embeddings.to_csv('data/train_embeddings.csv', index=False)\n",
    "test_embeddings.to_csv('data/test_embeddings.csv', index=False)\n",
    "X_train_reduced.to_csv('data/train_reduced.csv', index=False)\n",
    "X_test_reduced.to_csv('data/test_reduced.csv', index=False)"
   ]
  },
  {
   "cell_type": "code",
   "execution_count": 39,
   "metadata": {
    "id": "unvxrV-xqb9o"
   },
   "outputs": [],
   "source": []
  }
 ],
 "metadata": {
  "colab": {
   "collapsed_sections": [
    "Np-ctOcUB3PP"
   ],
   "provenance": []
  },
  "kernelspec": {
   "display_name": "Python 3 (ipykernel)",
   "language": "python",
   "name": "python3"
  },
  "language_info": {
   "codemirror_mode": {
    "name": "ipython",
    "version": 3
   },
   "file_extension": ".py",
   "mimetype": "text/x-python",
   "name": "python",
   "nbconvert_exporter": "python",
   "pygments_lexer": "ipython3",
   "version": "3.10.11"
  }
 },
 "nbformat": 4,
 "nbformat_minor": 1
}
